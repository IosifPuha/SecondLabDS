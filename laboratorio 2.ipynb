{
  "nbformat": 4,
  "nbformat_minor": 0,
  "metadata": {
    "colab": {
      "provenance": []
    },
    "kernelspec": {
      "name": "python3",
      "display_name": "Python 3"
    },
    "language_info": {
      "name": "python"
    }
  },
  "cells": [
    {
      "cell_type": "code",
      "source": [
        "import pandas as pd \n",
        "import matplotlib.pyplot as plt \n",
        "import numpy as np"
      ],
      "metadata": {
        "id": "DG6_rz0Y_1Tx"
      },
      "execution_count": null,
      "outputs": []
    },
    {
      "cell_type": "markdown",
      "source": [
        "**Parte 1 analisi statistica**\n",
        "\n",
        "Utilizziamo la tabella integrate_titles che abbiamo prodotto durante il primo laboratorio. Vi ricordo che abbiamo effettuato integrazione di due dataset provenienti da Disney+ e Netflix, contenenti informazioni circa film e serie tv rilasciate sulle due piattaforme di streaming. \n",
        "Il dataset integrato è stato pulito e risulta quindi pronto per ulteriori analisi. \n",
        "\n",
        "1. Importiamo il dataset:"
      ],
      "metadata": {
        "id": "QYXUP9A4_cUe"
      }
    },
    {
      "cell_type": "code",
      "execution_count": null,
      "metadata": {
        "id": "PnExuBeH_YAz"
      },
      "outputs": [],
      "source": [
        "#codice qui "
      ]
    },
    {
      "cell_type": "markdown",
      "source": [
        "visualizziamo il dataset"
      ],
      "metadata": {
        "id": "u-nCzS4SVRf3"
      }
    },
    {
      "cell_type": "code",
      "source": [
        "#codice qui "
      ],
      "metadata": {
        "id": "JNVIvuWdVS1Y"
      },
      "execution_count": null,
      "outputs": []
    },
    {
      "cell_type": "code",
      "source": [
        "#codice qui per vedere numero di elementi e informazioni sulle colonne"
      ],
      "metadata": {
        "id": "yoJXIEgHFyVc"
      },
      "execution_count": null,
      "outputs": []
    },
    {
      "cell_type": "markdown",
      "source": [
        "**Parte 1. Statistiche di base e analisi OLAP**\n",
        "\n",
        "Calcoliamo alcune statistiche di base, sulle colonne imdb_score e tmdb_score:\n",
        "1. Media;\n",
        "2. Deviazione standard;\n",
        "3. Varianza;\n",
        "4. Moda;\n",
        "5. Mediana."
      ],
      "metadata": {
        "id": "fX7iVZLwdlEd"
      }
    },
    {
      "cell_type": "markdown",
      "source": [
        "prima di tutto verifichiamo che non ci siano valori nulli"
      ],
      "metadata": {
        "id": "2qWOdyij8uED"
      }
    },
    {
      "cell_type": "code",
      "source": [
        "#codice qui \n"
      ],
      "metadata": {
        "id": "7CN1mqp58wOy"
      },
      "execution_count": null,
      "outputs": []
    },
    {
      "cell_type": "markdown",
      "source": [
        "proviamo a riempire questi valori nulli con il valore medio degli elementi non nulli. Iniziamo con imdb"
      ],
      "metadata": {
        "id": "0tFdAQNX9QPI"
      }
    },
    {
      "cell_type": "code",
      "source": [
        "#calcolo media non nulli\n",
        "#trovo indici nulli di ibmdb_score\n",
        "#trovo indici non nulli di ibmdb_score\n",
        "#calcolo media non nulli di ibmdb_score\n",
        "#sostituzione con loc su indici nulli \n"
      ],
      "metadata": {
        "id": "Kms9k91A9VeS"
      },
      "execution_count": null,
      "outputs": []
    },
    {
      "cell_type": "markdown",
      "source": [
        "stessa cosa per tmdb"
      ],
      "metadata": {
        "id": "M4Ra52Xm-H7U"
      }
    },
    {
      "cell_type": "code",
      "source": [
        "#codice qui \n",
        "#calcolo media non nulli\n",
        "#sostituzione\n"
      ],
      "metadata": {
        "id": "gBJulvEd-L5u"
      },
      "execution_count": null,
      "outputs": []
    },
    {
      "cell_type": "markdown",
      "source": [
        "calcoliamo quindi le statistiche richieste"
      ],
      "metadata": {
        "id": "kPGE7Qf--V2x"
      }
    },
    {
      "cell_type": "code",
      "source": [
        "#codice qui "
      ],
      "metadata": {
        "id": "Jl7WtQxZd117"
      },
      "execution_count": null,
      "outputs": []
    },
    {
      "cell_type": "markdown",
      "source": [
        "stampiamo i valori di num_awards per verificare che moda e mediana siano calcolate nel modo corretto. Sortiamo l'array in ordine crescente per visualizzare la mediana."
      ],
      "metadata": {
        "id": "-rr-jCzRfuPZ"
      }
    },
    {
      "cell_type": "code",
      "source": [
        "#sorted = \n",
        "print(sorted.tolist())"
      ],
      "metadata": {
        "id": "7kZ_Ham3fyzz"
      },
      "execution_count": null,
      "outputs": []
    },
    {
      "cell_type": "markdown",
      "source": [
        "ora facciamo la stessa cosa, ma senza riempire i valori nulli.\n",
        "Le funzioni che calcolano le statistiche in pandas, hanno un'opzione dropna=True di default, quindi non considerano i valori nulli, in automatico.  "
      ],
      "metadata": {
        "id": "mVcQmR2m-zNa"
      }
    },
    {
      "cell_type": "code",
      "source": [
        "integrate_titles = pd.read_csv(\"integrate_titles2.csv\") "
      ],
      "metadata": {
        "id": "0S-YOnRd-372"
      },
      "execution_count": null,
      "outputs": []
    },
    {
      "cell_type": "code",
      "source": [
        "#codice qui \n"
      ],
      "metadata": {
        "id": "OE2LgSMi_CXP"
      },
      "execution_count": null,
      "outputs": []
    },
    {
      "cell_type": "markdown",
      "source": [
        "come dimostrazione, eliminiamo le righe che contengono un valore nullo su imdb_score e ripetiamo le statistiche "
      ],
      "metadata": {
        "id": "HbfXGgle_psr"
      }
    },
    {
      "cell_type": "code",
      "source": [
        "integrate_titles = pd.read_csv(\"integrate_titles2.csv\") \n",
        "integrate_titles = integrate_titles.dropna(axis=0, subset=['imdb_score'])"
      ],
      "metadata": {
        "id": "C3wBUAzk_yEH"
      },
      "execution_count": null,
      "outputs": []
    },
    {
      "cell_type": "code",
      "source": [
        "#codice qui "
      ],
      "metadata": {
        "id": "zmSlCphX_7Kx"
      },
      "execution_count": null,
      "outputs": []
    },
    {
      "cell_type": "markdown",
      "source": [
        "A questo punto, usiamo quest'ultima versione  e predisponiamo il nostro dataset per un'analisi OLAP. Per prima cosa, quantizziamo lo score di IMBD. Possiamo usare questa quantizzazione:\n",
        "1. BAD = [0,4.9];\n",
        "2. SUFFICIENT = [5,5.9];\n",
        "3. GOOD = [6,6.9];\n",
        "4. VERY GOOD = [7,7.9];\n",
        "5. EXCELLENT = [8,10].\n",
        "\n",
        "**tip** \n",
        "\n",
        "Dobbiamo utilizzare la funzione between di pandas (between(min_range,max_range,'both'), la funzione loc per accedere ai valori del dataframe e creare una nuova colonna che chiamiamo 'imdb_score_quant\n"
      ],
      "metadata": {
        "id": "uqvLYHQZgDOP"
      }
    },
    {
      "cell_type": "code",
      "source": [
        "#codice qui \n",
        "\n",
        "quantize_imdb_score = ['LOW','SUFFICIENT','GOOD','VERY GOOD','EXCELLENT']"
      ],
      "metadata": {
        "id": "L9OTeCMigUxT"
      },
      "execution_count": null,
      "outputs": []
    },
    {
      "cell_type": "markdown",
      "source": [
        "visualizziamo la colonna che abbiamo aggiunto "
      ],
      "metadata": {
        "id": "wtwdXrILBKE_"
      }
    },
    {
      "cell_type": "code",
      "source": [
        "#codice qui \n"
      ],
      "metadata": {
        "id": "BJlSShu-BMjj"
      },
      "execution_count": null,
      "outputs": []
    },
    {
      "cell_type": "markdown",
      "source": [
        "Facciamo la stessa cosa per gli anni di uscita (release_year). Usiamo questa quantizzazione:\n",
        "\n",
        "1. VERY OLD = [1900,1980];\n",
        "3. OLD = [1981,2000].\n",
        "4. RECENT = [2001,2015];\n",
        "5. VERY RECENT = [2016,2023].\n",
        "\n"
      ],
      "metadata": {
        "id": "lIQ_Oe2ug_ek"
      }
    },
    {
      "cell_type": "code",
      "source": [
        "#CODICE QUI\n",
        "quantize_release_year = ['VERY OLD','OLD','RECENT','VERY RECENT']"
      ],
      "metadata": {
        "id": "x8kEZxv1C9FW"
      },
      "execution_count": null,
      "outputs": []
    },
    {
      "cell_type": "markdown",
      "source": [
        "visualizziamo anche questa colonna"
      ],
      "metadata": {
        "id": "5Zi63wqUDdXS"
      }
    },
    {
      "cell_type": "code",
      "source": [
        "#codice qui \n"
      ],
      "metadata": {
        "id": "gpHJyNyUDfHE"
      },
      "execution_count": null,
      "outputs": []
    },
    {
      "cell_type": "markdown",
      "source": [
        "Infine, utilizziamo TYPE che risulta già quantizzato."
      ],
      "metadata": {
        "id": "9DI19BUaDqR0"
      }
    },
    {
      "cell_type": "code",
      "source": [
        "integrate_titles['type'].isnull().sum()"
      ],
      "metadata": {
        "id": "uCl3o9_2FQyb"
      },
      "execution_count": null,
      "outputs": []
    },
    {
      "cell_type": "markdown",
      "source": [
        "visualizziamo i possibili valori di type\n",
        "\n",
        "**tip** usiamo la funzione unique di numpy "
      ],
      "metadata": {
        "id": "VJ6FwtF9FVpO"
      }
    },
    {
      "cell_type": "code",
      "source": [
        "#codice qui "
      ],
      "metadata": {
        "id": "Mim5bZ7sFXqB"
      },
      "execution_count": null,
      "outputs": []
    },
    {
      "cell_type": "markdown",
      "source": [
        "come vediamo sono soltanto MOVIE and SHOW."
      ],
      "metadata": {
        "id": "xjRDgqytFbvW"
      }
    },
    {
      "cell_type": "markdown",
      "source": [
        "il programma a cui sono iscritti gli studenti è già discreto e quantizzato. Visualizziamo allora le colonne aggiunte"
      ],
      "metadata": {
        "id": "7Co7JPtLh4Oy"
      }
    },
    {
      "cell_type": "markdown",
      "source": [
        "**Parte 2. Visualizzazione dei dati e OLAP**\n",
        "\n",
        "Abbiamo visto che esistono diverse modalita' di visualizzazione dei dati. \n",
        "\n",
        "In base al tipo di dato, alcune sono appropriate, altre possono non esserlo. \n",
        "\n",
        "La visualizzazione dei dati dipende da cosa vogliamo **comunicare**\n",
        "con i dati. \n",
        "\n",
        "Proviamo a visualizzare il dato in forma quantizzata per OLAP, poi faremo alcune visualizzazioni. Dobbiamo prima di tutto contare il numero di occorrenze di ciascun valore. Sarà sufficiente usare la funzione value_counts di pandas. \n",
        "Ricordiamo che abbiamo:\n",
        "- 5 valori possibili per Score;\n",
        "- 4 valori possibili per release_year;\n",
        "- 2 valori possibili per type"
      ],
      "metadata": {
        "id": "tZc6d0ppjAkc"
      }
    },
    {
      "cell_type": "code",
      "source": [
        "#codice qui \n",
        "for z in range(0,len(quantize_type)):\n",
        "  #codice qui \n",
        "  for j in range(0,len(quantize_release_year)):\n",
        "    for i in range(0,len(quantize_imdb_score)):\n",
        "      #codice qui "
      ],
      "metadata": {
        "id": "RGsIY_FxjF6w"
      },
      "execution_count": null,
      "outputs": []
    },
    {
      "cell_type": "markdown",
      "source": [
        "Per prima cosa, facciamo uno **slicing** rispetto a type"
      ],
      "metadata": {
        "id": "u71f5nF1n48I"
      }
    },
    {
      "cell_type": "code",
      "source": [
        "#codice qui \n",
        "print('MOVIE')"
      ],
      "metadata": {
        "id": "koFJF2Xin7gi"
      },
      "execution_count": null,
      "outputs": []
    },
    {
      "cell_type": "markdown",
      "source": [
        "visualizziamo ora questa matrice, con una heatmap. Dobbiamo usare matplotlib e la funzione imshow."
      ],
      "metadata": {
        "id": "H2xEC5G4IlrY"
      }
    },
    {
      "cell_type": "code",
      "source": [
        "#codice qui "
      ],
      "metadata": {
        "id": "m_o7mfE7IrVD"
      },
      "execution_count": null,
      "outputs": []
    },
    {
      "cell_type": "code",
      "source": [
        "print('SHOW')\n",
        "#codice qui "
      ],
      "metadata": {
        "id": "JHDLRPxln8Cw"
      },
      "execution_count": null,
      "outputs": []
    },
    {
      "cell_type": "markdown",
      "source": [
        "stessa cosa per show"
      ],
      "metadata": {
        "id": "uwcSGUMuI9NA"
      }
    },
    {
      "cell_type": "code",
      "source": [
        "#codice qui "
      ],
      "metadata": {
        "id": "WJ3vEcOBI-Yf"
      },
      "execution_count": null,
      "outputs": []
    },
    {
      "cell_type": "markdown",
      "source": [
        "Notiamo (tra le altre cose), con questo slicing, che la maggior parte delle serie sono molto recenti, e che molte di esse sono valutate come very good. Mentre la maggior parte dei film molto recenti sono valutati good. "
      ],
      "metadata": {
        "id": "YKhDb9MwsALR"
      }
    },
    {
      "cell_type": "markdown",
      "source": [
        "adesso facciamo slicing rispetto al release_year, visualizzando soltanto i VERY OLD. \n"
      ],
      "metadata": {
        "id": "nUrUpe_aoJiV"
      }
    },
    {
      "cell_type": "code",
      "source": [
        "print('VERY OLD')\n",
        "#codice qui "
      ],
      "metadata": {
        "id": "O0vens1sjozT"
      },
      "execution_count": null,
      "outputs": []
    },
    {
      "cell_type": "markdown",
      "source": [
        "possiamo notare come con questa visualizzazione, sia evidente che non il numero di show sia molto piccolo rispetto ai film, la cui valutazione è per lo più media. "
      ],
      "metadata": {
        "id": "Z5dVjzVTrrz2"
      }
    },
    {
      "cell_type": "markdown",
      "source": [
        "proviamo a visualizzare questa informazione con un grafico a linea. "
      ],
      "metadata": {
        "id": "mmDLsyt9IA0I"
      }
    },
    {
      "cell_type": "code",
      "source": [
        "#codice qui "
      ],
      "metadata": {
        "id": "Fk-O3fYPIDeR"
      },
      "execution_count": null,
      "outputs": []
    },
    {
      "cell_type": "markdown",
      "source": [
        "a questo punto facciamo un dicing, visualizzando i film che hanno avuto una votazione \"GOOD\" e che siano \"VERY RECENT\".\n",
        "\n"
      ],
      "metadata": {
        "id": "TAgk97pKtAkm"
      }
    },
    {
      "cell_type": "code",
      "source": [
        "print(\"GOOD and VERY RECENT\")\n",
        "#codice qui"
      ],
      "metadata": {
        "id": "aVVArT3_6G9l"
      },
      "execution_count": null,
      "outputs": []
    },
    {
      "cell_type": "markdown",
      "source": [
        "visualizziamo questa informazione con un bar plot"
      ],
      "metadata": {
        "id": "DqIWTPxzJKZW"
      }
    },
    {
      "cell_type": "code",
      "source": [
        "#codice qui "
      ],
      "metadata": {
        "id": "QdDyjUk3JM7q"
      },
      "execution_count": null,
      "outputs": []
    },
    {
      "cell_type": "markdown",
      "source": [
        "notiamo che ci sono più film che show."
      ],
      "metadata": {
        "id": "RsQgWGYQ6UBB"
      }
    },
    {
      "cell_type": "markdown",
      "source": [
        "A questo punto, vogliamo trovare un modo per visualizzare il numero di contenuti usciti nei vari anni, allo scopo di capire nuovamente se ci siano dei trend. Come possiamo fare?"
      ],
      "metadata": {
        "id": "ZHCgaRi6JyNI"
      }
    },
    {
      "cell_type": "code",
      "source": [
        "#codice qui "
      ],
      "metadata": {
        "id": "6QyZEmE9KtTt"
      },
      "execution_count": null,
      "outputs": []
    },
    {
      "cell_type": "code",
      "source": [
        "#codice qui \n"
      ],
      "metadata": {
        "id": "ccN552M7cZRC"
      },
      "execution_count": null,
      "outputs": []
    },
    {
      "cell_type": "markdown",
      "source": [
        "Di fatto, vorremo un istogramma (o un diagramma a barre?) Esistono altri due metodi per fare questo plot. \n",
        "\n",
        "Ne vediamo uno insieme."
      ],
      "metadata": {
        "id": "CGfK7rP_UQkP"
      }
    },
    {
      "cell_type": "code",
      "source": [
        "histo = np.histogram(integrate_titles['release_year'],bins=10)\n",
        "plt.bar(x=np.asarray(range(10)),height=histo[0])"
      ],
      "metadata": {
        "id": "YaPdB9vHUWfz"
      },
      "execution_count": null,
      "outputs": []
    },
    {
      "cell_type": "markdown",
      "source": [
        "L'altro consiste nell'usare la funzione 'hist' della libreria matplotlib. Provate a farlo!"
      ],
      "metadata": {
        "id": "GR8NFZvgUg89"
      }
    },
    {
      "cell_type": "code",
      "source": [
        "#codice qui "
      ],
      "metadata": {
        "id": "BZwIz7rxUlZ-"
      },
      "execution_count": null,
      "outputs": []
    },
    {
      "cell_type": "markdown",
      "source": [
        "Esiste un modo alternativo di visualizzare questa informazione fornendo più dettagli? \n",
        "\n",
        "Usate i box plot\n",
        "\n",
        "funzione pandas boxplot (argomenti: column = 'colonna da visualizzare', by ='colonna rispetto a cui dividere')"
      ],
      "metadata": {
        "id": "AHnrM4NfNUBQ"
      }
    },
    {
      "cell_type": "code",
      "source": [
        "#codice qui\n"
      ],
      "metadata": {
        "id": "O4jR4bZHRNgF"
      },
      "execution_count": null,
      "outputs": []
    },
    {
      "cell_type": "markdown",
      "source": [
        "I box plot ci danno informazioni sulla distribuzione, non solo sulla media. "
      ],
      "metadata": {
        "id": "JjbBtPvIPQBR"
      }
    },
    {
      "cell_type": "markdown",
      "source": [
        "Infine, facciamo un esempio di roll-up e dripping-down.\n",
        "Utilizziamo la colonna date_added, che abbiamo sistemato durante il primo laboratorio. "
      ],
      "metadata": {
        "id": "h_njBxLlMCQT"
      }
    },
    {
      "cell_type": "code",
      "source": [
        "integrate_titles.head()"
      ],
      "metadata": {
        "id": "gW1wVcmjNYKl"
      },
      "execution_count": null,
      "outputs": []
    },
    {
      "cell_type": "markdown",
      "source": [
        "come roll-up, visualizziamo con diagramma a barre, il numero di film usciti nei vari mesi, indipendentemente dagli anni"
      ],
      "metadata": {
        "id": "g7WihnNKNAvQ"
      }
    },
    {
      "cell_type": "code",
      "source": [
        "#codice qui \n",
        "\n",
        "\n",
        "num_film = np.zeros((12))\n",
        "\n",
        "#codice qui "
      ],
      "metadata": {
        "id": "x1NTYCeHM_OE"
      },
      "execution_count": null,
      "outputs": []
    },
    {
      "cell_type": "markdown",
      "source": [
        "come esempio di dripping down, selezioniamo l'anno 2020, e visualizziamo la stessa informazione di prima (numero di film usciti per mese)"
      ],
      "metadata": {
        "id": "qBIIkZd2OY2u"
      }
    },
    {
      "cell_type": "code",
      "source": [
        "#codice qui \n"
      ],
      "metadata": {
        "id": "09OuJzlpOfk8"
      },
      "execution_count": null,
      "outputs": []
    }
  ]
}