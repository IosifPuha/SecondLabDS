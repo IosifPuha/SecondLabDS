{
 "cells": [
  {
   "cell_type": "code",
   "execution_count": null,
   "metadata": {
    "id": "DG6_rz0Y_1Tx",
    "tags": []
   },
   "outputs": [],
   "source": [
    "import pandas as pd \n",
    "import matplotlib.pyplot as plt \n",
    "import numpy as np"
   ]
  },
  {
   "cell_type": "markdown",
   "metadata": {
    "id": "QYXUP9A4_cUe"
   },
   "source": [
    "**Parte 1 analisi statistica**\n",
    "\n",
    "Utilizziamo la tabella integrate_titles che abbiamo prodotto durante il primo laboratorio. Vi ricordo che abbiamo effettuato integrazione di due dataset provenienti da Disney+ e Netflix, contenenti informazioni circa film e serie tv rilasciate sulle due piattaforme di streaming. \n",
    "Il dataset integrato è stato pulito e risulta quindi pronto per ulteriori analisi. \n",
    "\n",
    "1. Importiamo il dataset:"
   ]
  },
  {
   "cell_type": "code",
   "execution_count": null,
   "metadata": {
    "id": "PnExuBeH_YAz",
    "tags": []
   },
   "outputs": [],
   "source": [
    "integrate_titles = pd.read_csv(\"integrate_titles2.csv\")"
   ]
  },
  {
   "cell_type": "markdown",
   "metadata": {
    "id": "u-nCzS4SVRf3"
   },
   "source": [
    "visualizziamo il dataset"
   ]
  },
  {
   "cell_type": "code",
   "execution_count": null,
   "metadata": {
    "id": "JNVIvuWdVS1Y",
    "tags": []
   },
   "outputs": [],
   "source": [
    "integrate_titles.head()"
   ]
  },
  {
   "cell_type": "code",
   "execution_count": null,
   "metadata": {
    "id": "yoJXIEgHFyVc",
    "tags": []
   },
   "outputs": [],
   "source": [
    "integrate_titles.info()"
   ]
  },
  {
   "cell_type": "markdown",
   "metadata": {
    "id": "fX7iVZLwdlEd"
   },
   "source": [
    "**Parte 1. Statistiche di base e analisi OLAP**\n",
    "\n",
    "Calcoliamo alcune statistiche di base, sulle colonne imdb_score e tmdb_score:\n",
    "1. Media;\n",
    "2. Deviazione standard;\n",
    "3. Varianza;\n",
    "4. Moda;\n",
    "5. Mediana."
   ]
  },
  {
   "cell_type": "markdown",
   "metadata": {
    "id": "2qWOdyij8uED"
   },
   "source": [
    "prima di tutto verifichiamo che non ci siano valori nulli"
   ]
  },
  {
   "cell_type": "code",
   "execution_count": null,
   "metadata": {
    "id": "7CN1mqp58wOy",
    "tags": []
   },
   "outputs": [],
   "source": [
    "null_values = integrate_titles.isnull().sum()\n",
    "print(\"Valori Null nel dataset\", null_values)\n"
   ]
  },
  {
   "cell_type": "markdown",
   "metadata": {
    "id": "0tFdAQNX9QPI"
   },
   "source": [
    "proviamo a riempire questi valori nulli con il valore medio degli elementi non nulli. Iniziamo con imdb"
   ]
  },
  {
   "cell_type": "code",
   "execution_count": null,
   "metadata": {
    "id": "Kms9k91A9VeS",
    "tags": []
   },
   "outputs": [],
   "source": [
    "#calcolo media non nulli\n",
    "#trovo indici nulli di ibmdb_score\n",
    "indici_nulli_imdb_score = integrate_titles[integrate_titles['imdb_score'].isnull()].index\n",
    "#trovo indici non nulli di ibmdb_score\n",
    "indici_non_nulli_imdb_score = integrate_titles[integrate_titles['imdb_score'].notnull()].index\n",
    "#calcolo media non nulli di ibmdb_score\n",
    "media_imdb_score = integrate_titles['imdb_score'].mean()\n",
    "print(\"Media valori non nulli di imdb_score\", media_imdb_score)\n",
    "#sostituzione con loc su indici nulli \n",
    "integrate_titles.loc[indici_nulli_imdb_score, 'imdb_score'] = media_imdb_score\n",
    "\n",
    "#proviamo a vedere se ha avuto effetto (dovrebbe esserci 0 in corrispondenza di imdb_score)\n",
    "null_values = integrate_titles.isnull().sum()\n",
    "print(\"Valori Null nel dataset\", null_values)"
   ]
  },
  {
   "cell_type": "markdown",
   "metadata": {
    "id": "M4Ra52Xm-H7U"
   },
   "source": [
    "stessa cosa per tmdb"
   ]
  },
  {
   "cell_type": "code",
   "execution_count": null,
   "metadata": {
    "id": "gBJulvEd-L5u",
    "tags": []
   },
   "outputs": [],
   "source": [
    "#codice qui \n",
    "#trovo indici nulli di ibmdb_score\n",
    "indici_nulli_tmdb_score = integrate_titles[integrate_titles['tmdb_score'].isnull()].index\n",
    "#trovo indici non nulli di ibmdb_score\n",
    "indici_non_nulli_tmdb_score = integrate_titles[integrate_titles['tmdb_score'].notnull()].index\n",
    "\n",
    "#calcolo media non nulli\n",
    "media_tmdb_score = integrate_titles['tmdb_score'].mean()\n",
    "#sostituzione\n",
    "integrate_titles.loc[indici_nulli_tmdb_score, 'tmdb_score'] = media_tmdb_score\n",
    "\n",
    "#proviamo a vedere se ha avuto effetto (adesso dovrebbe esserci 0 in corrispondenza anche di tmdb_score)\n",
    "null_values = integrate_titles.isnull().sum()\n",
    "print(\"Valori Null nel dataset\", null_values)"
   ]
  },
  {
   "cell_type": "markdown",
   "metadata": {
    "id": "kPGE7Qf--V2x"
   },
   "source": [
    "calcoliamo quindi le statistiche richieste"
   ]
  },
  {
   "cell_type": "code",
   "execution_count": null,
   "metadata": {
    "id": "Jl7WtQxZd117",
    "tags": []
   },
   "outputs": [],
   "source": [
    "#media imdb_score:\n",
    "media_imdb_score = integrate_titles['imdb_score'].mean()\n",
    "print(\"Media di imdb_score dopo 'completamento' dei valori nulli: \", media_imdb_score)\n",
    "#deviazione standard imdb_score:\n",
    "std_imdb_score = integrate_titles['imdb_score'].std()\n",
    "print(\"Deviazinoe standard di imdb_score dopo 'completamento' dei valori nulli: \", std_imdb_score)\n",
    "#varianza imdb_score:\n",
    "var_imdb_score = integrate_titles['imdb_score'].var()\n",
    "print(\"Varianza di imdb_score dopo 'completamento' dei valori nulli: \", var_imdb_score)\n",
    "#moda imdb_score:\n",
    "moda_imdb_score = integrate_titles['imdb_score'].mode()[0]\n",
    "print(\"Moda di imdb_score dopo 'completamento' dei valori nulli: \", moda_imdb_score)\n",
    "#mediana imdb_score:\n",
    "mediana_imdb_score = integrate_titles['imdb_score'].median()\n",
    "print(\"Mediana di imdb_score dopo 'completamento' dei valori nulli: \", mediana_imdb_score)\n",
    "\n",
    "\n",
    "#media tmdb_score:\n",
    "media_tmdb_score = integrate_titles['tmdb_score'].mean()\n",
    "print(\"Media di tmdb_score dopo 'completamento' dei valori nulli: \", media_tmdb_score)\n",
    "#deviazione standard tmdb_score:\n",
    "std_tmdb_score = integrate_titles['tmdb_score'].std()\n",
    "print(\"Deviazinoe standard di tmdb_score dopo 'completamento' dei valori nulli: \", std_tmdb_score)\n",
    "#varianza tmdb_score:\n",
    "var_tmdb_score = integrate_titles['tmdb_score'].var()\n",
    "print(\"Varianza di tmdb_score dopo 'completamento' dei valori nulli: \", var_tmdb_score)\n",
    "#moda tmdb_score:\n",
    "moda_tmdb_score = integrate_titles['tmdb_score'].mode()[0]\n",
    "print(\"Moda di tmdb_score dopo 'completamento' dei valori nulli: \", moda_tmdb_score)\n",
    "#mediana tmdb_score:\n",
    "mediana_tmdb_score = integrate_titles['tmdb_score'].median()\n",
    "print(\"Mediana di tmdb_score dopo 'completamento' dei valori nulli: \", mediana_tmdb_score)"
   ]
  },
  {
   "cell_type": "markdown",
   "metadata": {
    "id": "-rr-jCzRfuPZ"
   },
   "source": [
    "stampiamo i valori di num_awards per verificare che moda e mediana siano calcolate nel modo corretto. Sortiamo l'array in ordine crescente per visualizzare la mediana."
   ]
  },
  {
   "cell_type": "code",
   "execution_count": null,
   "metadata": {
    "id": "7kZ_Ham3fyzz",
    "tags": []
   },
   "outputs": [],
   "source": [
    "sorted = integrate_titles['imdb_score'].sort_values() \n",
    "print(sorted.tolist())"
   ]
  },
  {
   "cell_type": "markdown",
   "metadata": {
    "id": "mVcQmR2m-zNa"
   },
   "source": [
    "ora facciamo la stessa cosa, ma senza riempire i valori nulli.\n",
    "Le funzioni che calcolano le statistiche in pandas, hanno un'opzione dropna=True di default, quindi non considerano i valori nulli, in automatico.  "
   ]
  },
  {
   "cell_type": "code",
   "execution_count": null,
   "metadata": {
    "id": "0S-YOnRd-372"
   },
   "outputs": [],
   "source": [
    "integrate_titles = pd.read_csv(\"integrate_titles2.csv\") "
   ]
  },
  {
   "cell_type": "code",
   "execution_count": null,
   "metadata": {
    "id": "OE2LgSMi_CXP",
    "tags": []
   },
   "outputs": [],
   "source": [
    "#codice qui \n",
    "\n",
    "#media imdb_score:\n",
    "media_imdb_score = integrate_titles['imdb_score'].mean(dropna=False)\n",
    "print(\"Media di imdb_score senza 'completamento' ed includendo i null: \", media_imdb_score)\n",
    "#deviazione standard imdb_score:\n",
    "std_imdb_score = integrate_titles['imdb_score'].std(dropna=False)\n",
    "print(\"Deviazinoe standard di imdb_score senza 'completamento' ed includendo i null: \", std_imdb_score)\n",
    "#varianza imdb_score:\n",
    "var_imdb_score = integrate_titles['imdb_score'].var(dropna=False)\n",
    "print(\"Varianza di imdb_score senza 'completamento' ed includendo i null: \", var_imdb_score)\n",
    "#moda imdb_score:\n",
    "moda_imdb_score = integrate_titles['imdb_score'].mode(dropna=False)[0]\n",
    "print(\"Moda di imdb_score senza 'completamento' ed includendo i null: \", moda_imdb_score)\n",
    "#mediana imdb_score:\n",
    "mediana_imdb_score = integrate_titles['imdb_score'].median(dropna=False)\n",
    "print(\"Mediana di imdb_score senza 'completamento' ed includendo i null: \", mediana_imdb_score)\n",
    "\n",
    "\n",
    "#media tmdb_score:\n",
    "media_tmdb_score = integrate_titles['tmdb_score'].mean(dropna=False)\n",
    "print(\"Media di tmdb_score senza 'completamento' ed includendo i null: \", media_tmdb_score)\n",
    "#deviazione standard tmdb_score:\n",
    "std_tmdb_score = integrate_titles['tmdb_score'].std(dropna=False)\n",
    "print(\"Deviazinoe standard di tmdb_score senza 'completamento' ed includendo i null: \", std_tmdb_score)\n",
    "#varianza tmdb_score:\n",
    "var_tmdb_score = integrate_titles['tmdb_score'].var(dropna=False)\n",
    "print(\"Varianza di tmdb_score senza 'completamento' ed includendo i null: \", var_tmdb_score)\n",
    "#moda tmdb_score:\n",
    "moda_tmdb_score = integrate_titles['tmdb_score'].mode(dropna=False)[0]\n",
    "print(\"Moda di tmdb_score senza 'completamento' ed includendo i null: \", moda_tmdb_score)\n",
    "#mediana tmdb_score:\n",
    "mediana_tmdb_score = integrate_titles['tmdb_score'].median(dropna=False)\n",
    "print(\"Mediana di tmdb_score senza 'completamento' ed includendo i null: \", mediana_tmdb_score)\n",
    "\n",
    "\n",
    "\n"
   ]
  },
  {
   "cell_type": "markdown",
   "metadata": {
    "id": "HbfXGgle_psr"
   },
   "source": [
    "come dimostrazione, eliminiamo le righe che contengono un valore nullo su imdb_score e ripetiamo le statistiche "
   ]
  },
  {
   "cell_type": "code",
   "execution_count": null,
   "metadata": {
    "id": "C3wBUAzk_yEH"
   },
   "outputs": [],
   "source": [
    "integrate_titles = pd.read_csv(\"integrate_titles2.csv\") \n",
    "integrate_titles = integrate_titles.dropna(axis=0, subset=['imdb_score'])"
   ]
  },
  {
   "cell_type": "code",
   "execution_count": null,
   "metadata": {
    "id": "zmSlCphX_7Kx"
   },
   "outputs": [],
   "source": [
    "#codice qui "
   ]
  },
  {
   "cell_type": "markdown",
   "metadata": {
    "id": "uqvLYHQZgDOP"
   },
   "source": [
    "A questo punto, usiamo quest'ultima versione  e predisponiamo il nostro dataset per un'analisi OLAP. Per prima cosa, quantizziamo lo score di IMBD. Possiamo usare questa quantizzazione:\n",
    "1. BAD = [0,4.9];\n",
    "2. SUFFICIENT = [5,5.9];\n",
    "3. GOOD = [6,6.9];\n",
    "4. VERY GOOD = [7,7.9];\n",
    "5. EXCELLENT = [8,10].\n",
    "\n",
    "**tip** \n",
    "\n",
    "Dobbiamo utilizzare la funzione between di pandas (between(min_range,max_range,'both'), la funzione loc per accedere ai valori del dataframe e creare una nuova colonna che chiamiamo 'imdb_score_quant\n"
   ]
  },
  {
   "cell_type": "code",
   "execution_count": null,
   "metadata": {
    "id": "L9OTeCMigUxT"
   },
   "outputs": [],
   "source": [
    "#codice qui \n",
    "\n",
    "quantize_imdb_score = ['LOW','SUFFICIENT','GOOD','VERY GOOD','EXCELLENT']"
   ]
  },
  {
   "cell_type": "markdown",
   "metadata": {
    "id": "wtwdXrILBKE_"
   },
   "source": [
    "visualizziamo la colonna che abbiamo aggiunto "
   ]
  },
  {
   "cell_type": "code",
   "execution_count": null,
   "metadata": {
    "id": "BJlSShu-BMjj"
   },
   "outputs": [],
   "source": [
    "#codice qui \n"
   ]
  },
  {
   "cell_type": "markdown",
   "metadata": {
    "id": "lIQ_Oe2ug_ek"
   },
   "source": [
    "Facciamo la stessa cosa per gli anni di uscita (release_year). Usiamo questa quantizzazione:\n",
    "\n",
    "1. VERY OLD = [1900,1980];\n",
    "3. OLD = [1981,2000].\n",
    "4. RECENT = [2001,2015];\n",
    "5. VERY RECENT = [2016,2023].\n",
    "\n"
   ]
  },
  {
   "cell_type": "code",
   "execution_count": null,
   "metadata": {
    "id": "x8kEZxv1C9FW"
   },
   "outputs": [],
   "source": [
    "#CODICE QUI\n",
    "quantize_release_year = ['VERY OLD','OLD','RECENT','VERY RECENT']"
   ]
  },
  {
   "cell_type": "markdown",
   "metadata": {
    "id": "5Zi63wqUDdXS"
   },
   "source": [
    "visualizziamo anche questa colonna"
   ]
  },
  {
   "cell_type": "code",
   "execution_count": null,
   "metadata": {
    "id": "gpHJyNyUDfHE"
   },
   "outputs": [],
   "source": [
    "#codice qui \n"
   ]
  },
  {
   "cell_type": "markdown",
   "metadata": {
    "id": "9DI19BUaDqR0"
   },
   "source": [
    "Infine, utilizziamo TYPE che risulta già quantizzato."
   ]
  },
  {
   "cell_type": "code",
   "execution_count": null,
   "metadata": {
    "id": "uCl3o9_2FQyb"
   },
   "outputs": [],
   "source": [
    "integrate_titles['type'].isnull().sum()"
   ]
  },
  {
   "cell_type": "markdown",
   "metadata": {
    "id": "VJ6FwtF9FVpO"
   },
   "source": [
    "visualizziamo i possibili valori di type\n",
    "\n",
    "**tip** usiamo la funzione unique di numpy "
   ]
  },
  {
   "cell_type": "code",
   "execution_count": null,
   "metadata": {
    "id": "Mim5bZ7sFXqB"
   },
   "outputs": [],
   "source": [
    "#codice qui "
   ]
  },
  {
   "cell_type": "markdown",
   "metadata": {
    "id": "xjRDgqytFbvW"
   },
   "source": [
    "come vediamo sono soltanto MOVIE and SHOW."
   ]
  },
  {
   "cell_type": "markdown",
   "metadata": {
    "id": "7Co7JPtLh4Oy"
   },
   "source": [
    "il programma a cui sono iscritti gli studenti è già discreto e quantizzato. Visualizziamo allora le colonne aggiunte"
   ]
  },
  {
   "cell_type": "markdown",
   "metadata": {
    "id": "tZc6d0ppjAkc"
   },
   "source": [
    "**Parte 2. Visualizzazione dei dati e OLAP**\n",
    "\n",
    "Abbiamo visto che esistono diverse modalita' di visualizzazione dei dati. \n",
    "\n",
    "In base al tipo di dato, alcune sono appropriate, altre possono non esserlo. \n",
    "\n",
    "La visualizzazione dei dati dipende da cosa vogliamo **comunicare**\n",
    "con i dati. \n",
    "\n",
    "Proviamo a visualizzare il dato in forma quantizzata per OLAP, poi faremo alcune visualizzazioni. Dobbiamo prima di tutto contare il numero di occorrenze di ciascun valore. Sarà sufficiente usare la funzione value_counts di pandas. \n",
    "Ricordiamo che abbiamo:\n",
    "- 5 valori possibili per Score;\n",
    "- 4 valori possibili per release_year;\n",
    "- 2 valori possibili per type"
   ]
  },
  {
   "cell_type": "code",
   "execution_count": null,
   "metadata": {
    "id": "RGsIY_FxjF6w"
   },
   "outputs": [],
   "source": [
    "#codice qui \n",
    "for z in range(0,len(quantize_type)):\n",
    "  #codice qui \n",
    "  for j in range(0,len(quantize_release_year)):\n",
    "    for i in range(0,len(quantize_imdb_score)):\n",
    "      #codice qui "
   ]
  },
  {
   "cell_type": "markdown",
   "metadata": {
    "id": "u71f5nF1n48I"
   },
   "source": [
    "Per prima cosa, facciamo uno **slicing** rispetto a type"
   ]
  },
  {
   "cell_type": "code",
   "execution_count": null,
   "metadata": {
    "id": "koFJF2Xin7gi"
   },
   "outputs": [],
   "source": [
    "#codice qui \n",
    "print('MOVIE')"
   ]
  },
  {
   "cell_type": "markdown",
   "metadata": {
    "id": "H2xEC5G4IlrY"
   },
   "source": [
    "visualizziamo ora questa matrice, con una heatmap. Dobbiamo usare matplotlib e la funzione imshow."
   ]
  },
  {
   "cell_type": "code",
   "execution_count": null,
   "metadata": {
    "id": "m_o7mfE7IrVD"
   },
   "outputs": [],
   "source": [
    "#codice qui "
   ]
  },
  {
   "cell_type": "code",
   "execution_count": null,
   "metadata": {
    "id": "JHDLRPxln8Cw"
   },
   "outputs": [],
   "source": [
    "print('SHOW')\n",
    "#codice qui "
   ]
  },
  {
   "cell_type": "markdown",
   "metadata": {
    "id": "uwcSGUMuI9NA"
   },
   "source": [
    "stessa cosa per show"
   ]
  },
  {
   "cell_type": "code",
   "execution_count": null,
   "metadata": {
    "id": "WJ3vEcOBI-Yf"
   },
   "outputs": [],
   "source": [
    "#codice qui "
   ]
  },
  {
   "cell_type": "markdown",
   "metadata": {
    "id": "YKhDb9MwsALR"
   },
   "source": [
    "Notiamo (tra le altre cose), con questo slicing, che la maggior parte delle serie sono molto recenti, e che molte di esse sono valutate come very good. Mentre la maggior parte dei film molto recenti sono valutati good. "
   ]
  },
  {
   "cell_type": "markdown",
   "metadata": {
    "id": "nUrUpe_aoJiV"
   },
   "source": [
    "adesso facciamo slicing rispetto al release_year, visualizzando soltanto i VERY OLD. \n"
   ]
  },
  {
   "cell_type": "code",
   "execution_count": null,
   "metadata": {
    "id": "O0vens1sjozT"
   },
   "outputs": [],
   "source": [
    "print('VERY OLD')\n",
    "#codice qui "
   ]
  },
  {
   "cell_type": "markdown",
   "metadata": {
    "id": "Z5dVjzVTrrz2"
   },
   "source": [
    "possiamo notare come con questa visualizzazione, sia evidente che non il numero di show sia molto piccolo rispetto ai film, la cui valutazione è per lo più media. "
   ]
  },
  {
   "cell_type": "markdown",
   "metadata": {
    "id": "mmDLsyt9IA0I"
   },
   "source": [
    "proviamo a visualizzare questa informazione con un grafico a linea. "
   ]
  },
  {
   "cell_type": "code",
   "execution_count": null,
   "metadata": {
    "id": "Fk-O3fYPIDeR"
   },
   "outputs": [],
   "source": [
    "#codice qui "
   ]
  },
  {
   "cell_type": "markdown",
   "metadata": {
    "id": "TAgk97pKtAkm"
   },
   "source": [
    "a questo punto facciamo un dicing, visualizzando i film che hanno avuto una votazione \"GOOD\" e che siano \"VERY RECENT\".\n",
    "\n"
   ]
  },
  {
   "cell_type": "code",
   "execution_count": null,
   "metadata": {
    "id": "aVVArT3_6G9l"
   },
   "outputs": [],
   "source": [
    "print(\"GOOD and VERY RECENT\")\n",
    "#codice qui"
   ]
  },
  {
   "cell_type": "markdown",
   "metadata": {
    "id": "DqIWTPxzJKZW"
   },
   "source": [
    "visualizziamo questa informazione con un bar plot"
   ]
  },
  {
   "cell_type": "code",
   "execution_count": null,
   "metadata": {
    "id": "QdDyjUk3JM7q"
   },
   "outputs": [],
   "source": [
    "#codice qui "
   ]
  },
  {
   "cell_type": "markdown",
   "metadata": {
    "id": "RsQgWGYQ6UBB"
   },
   "source": [
    "notiamo che ci sono più film che show."
   ]
  },
  {
   "cell_type": "markdown",
   "metadata": {
    "id": "ZHCgaRi6JyNI"
   },
   "source": [
    "A questo punto, vogliamo trovare un modo per visualizzare il numero di contenuti usciti nei vari anni, allo scopo di capire nuovamente se ci siano dei trend. Come possiamo fare?"
   ]
  },
  {
   "cell_type": "code",
   "execution_count": null,
   "metadata": {
    "id": "6QyZEmE9KtTt"
   },
   "outputs": [],
   "source": [
    "#codice qui "
   ]
  },
  {
   "cell_type": "code",
   "execution_count": null,
   "metadata": {
    "id": "ccN552M7cZRC"
   },
   "outputs": [],
   "source": [
    "#codice qui \n"
   ]
  },
  {
   "cell_type": "markdown",
   "metadata": {
    "id": "CGfK7rP_UQkP"
   },
   "source": [
    "Di fatto, vorremo un istogramma (o un diagramma a barre?) Esistono altri due metodi per fare questo plot. \n",
    "\n",
    "Ne vediamo uno insieme."
   ]
  },
  {
   "cell_type": "code",
   "execution_count": null,
   "metadata": {
    "id": "YaPdB9vHUWfz"
   },
   "outputs": [],
   "source": [
    "histo = np.histogram(integrate_titles['release_year'],bins=10)\n",
    "plt.bar(x=np.asarray(range(10)),height=histo[0])"
   ]
  },
  {
   "cell_type": "markdown",
   "metadata": {
    "id": "GR8NFZvgUg89"
   },
   "source": [
    "L'altro consiste nell'usare la funzione 'hist' della libreria matplotlib. Provate a farlo!"
   ]
  },
  {
   "cell_type": "code",
   "execution_count": null,
   "metadata": {
    "id": "BZwIz7rxUlZ-"
   },
   "outputs": [],
   "source": [
    "#codice qui "
   ]
  },
  {
   "cell_type": "markdown",
   "metadata": {
    "id": "AHnrM4NfNUBQ"
   },
   "source": [
    "Esiste un modo alternativo di visualizzare questa informazione fornendo più dettagli? \n",
    "\n",
    "Usate i box plot\n",
    "\n",
    "funzione pandas boxplot (argomenti: column = 'colonna da visualizzare', by ='colonna rispetto a cui dividere')"
   ]
  },
  {
   "cell_type": "code",
   "execution_count": null,
   "metadata": {
    "id": "O4jR4bZHRNgF"
   },
   "outputs": [],
   "source": [
    "#codice qui\n"
   ]
  },
  {
   "cell_type": "markdown",
   "metadata": {
    "id": "JjbBtPvIPQBR"
   },
   "source": [
    "I box plot ci danno informazioni sulla distribuzione, non solo sulla media. "
   ]
  },
  {
   "cell_type": "markdown",
   "metadata": {
    "id": "h_njBxLlMCQT"
   },
   "source": [
    "Infine, facciamo un esempio di roll-up e dripping-down.\n",
    "Utilizziamo la colonna date_added, che abbiamo sistemato durante il primo laboratorio. "
   ]
  },
  {
   "cell_type": "code",
   "execution_count": null,
   "metadata": {
    "id": "gW1wVcmjNYKl"
   },
   "outputs": [],
   "source": [
    "integrate_titles.head()"
   ]
  },
  {
   "cell_type": "markdown",
   "metadata": {
    "id": "g7WihnNKNAvQ"
   },
   "source": [
    "come roll-up, visualizziamo con diagramma a barre, il numero di film usciti nei vari mesi, indipendentemente dagli anni"
   ]
  },
  {
   "cell_type": "code",
   "execution_count": null,
   "metadata": {
    "id": "x1NTYCeHM_OE"
   },
   "outputs": [],
   "source": [
    "#codice qui \n",
    "\n",
    "\n",
    "num_film = np.zeros((12))\n",
    "\n",
    "#codice qui "
   ]
  },
  {
   "cell_type": "markdown",
   "metadata": {
    "id": "qBIIkZd2OY2u"
   },
   "source": [
    "come esempio di dripping down, selezioniamo l'anno 2020, e visualizziamo la stessa informazione di prima (numero di film usciti per mese)"
   ]
  },
  {
   "cell_type": "code",
   "execution_count": null,
   "metadata": {
    "id": "09OuJzlpOfk8"
   },
   "outputs": [],
   "source": [
    "#codice qui \n"
   ]
  }
 ],
 "metadata": {
  "colab": {
   "provenance": []
  },
  "kernelspec": {
   "display_name": "Python 3 (ipykernel)",
   "language": "python",
   "name": "python3"
  },
  "language_info": {
   "codemirror_mode": {
    "name": "ipython",
    "version": 3
   },
   "file_extension": ".py",
   "mimetype": "text/x-python",
   "name": "python",
   "nbconvert_exporter": "python",
   "pygments_lexer": "ipython3",
   "version": "3.10.12"
  }
 },
 "nbformat": 4,
 "nbformat_minor": 4
}
